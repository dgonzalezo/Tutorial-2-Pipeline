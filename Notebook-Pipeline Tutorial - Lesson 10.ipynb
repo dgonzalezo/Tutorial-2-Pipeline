{
 "cells": [
  {
   "cell_type": "code",
   "execution_count": 9,
   "metadata": {},
   "outputs": [],
   "source": [
    "from quantopian.pipeline import Pipeline\n",
    "from quantopian.research import run_pipeline\n",
    "from quantopian.pipeline.data.builtin import USEquityPricing\n",
    "from quantopian.pipeline.factors import SimpleMovingAverage, AverageDollarVolume"
   ]
  },
  {
   "cell_type": "code",
   "execution_count": 10,
   "metadata": {},
   "outputs": [],
   "source": [
    "from quantopian.pipeline import CustomFactor\n",
    "import numpy"
   ]
  },
  {
   "cell_type": "code",
   "execution_count": 11,
   "metadata": {},
   "outputs": [],
   "source": [
    "class StdDev(CustomFactor):\n",
    "    def compute(self, today, asset_ids, out, values):\n",
    "        # Calculates the column-wise standard deviation, ignoring NaNs\n",
    "        out[:] = numpy.nanstd(values, axis=0)"
   ]
  },
  {
   "cell_type": "code",
   "execution_count": 12,
   "metadata": {},
   "outputs": [],
   "source": [
    "def make_pipeline():\n",
    "    std_dev = StdDev(inputs=[USEquityPricing.close], window_length=5)\n",
    "\n",
    "    return Pipeline(\n",
    "        columns={\n",
    "            'std_dev': std_dev\n",
    "        }\n",
    "    )"
   ]
  },
  {
   "cell_type": "code",
   "execution_count": 13,
   "metadata": {},
   "outputs": [
    {
     "data": {
      "application/vnd.jupyter.widget-view+json": {
       "model_id": "",
       "version_major": 2,
       "version_minor": 0
      },
      "text/plain": []
     },
     "metadata": {},
     "output_type": "display_data"
    },
    {
     "data": {
      "text/html": [
       "<b>Pipeline Execution Time:</b> 0.28 Seconds"
      ],
      "text/plain": [
       "<IPython.core.display.HTML object>"
      ]
     },
     "metadata": {},
     "output_type": "display_data"
    },
    {
     "data": {
      "text/html": [
       "<div>\n",
       "<table border=\"1\" class=\"dataframe\">\n",
       "  <thead>\n",
       "    <tr style=\"text-align: right;\">\n",
       "      <th></th>\n",
       "      <th></th>\n",
       "      <th>std_dev</th>\n",
       "    </tr>\n",
       "  </thead>\n",
       "  <tbody>\n",
       "    <tr>\n",
       "      <th rowspan=\"5\" valign=\"top\">2015-05-05 00:00:00+00:00</th>\n",
       "      <th>Equity(2 [HWM])</th>\n",
       "      <td>0.293428</td>\n",
       "    </tr>\n",
       "    <tr>\n",
       "      <th>Equity(21 [AAME])</th>\n",
       "      <td>0.004714</td>\n",
       "    </tr>\n",
       "    <tr>\n",
       "      <th>Equity(24 [AAPL])</th>\n",
       "      <td>1.737677</td>\n",
       "    </tr>\n",
       "    <tr>\n",
       "      <th>Equity(25 [HWM_PR])</th>\n",
       "      <td>0.275000</td>\n",
       "    </tr>\n",
       "    <tr>\n",
       "      <th>Equity(31 [ABAX])</th>\n",
       "      <td>4.402971</td>\n",
       "    </tr>\n",
       "  </tbody>\n",
       "</table>\n",
       "</div>"
      ],
      "text/plain": [
       "                                                std_dev\n",
       "2015-05-05 00:00:00+00:00 Equity(2 [HWM])      0.293428\n",
       "                          Equity(21 [AAME])    0.004714\n",
       "                          Equity(24 [AAPL])    1.737677\n",
       "                          Equity(25 [HWM_PR])  0.275000\n",
       "                          Equity(31 [ABAX])    4.402971"
      ]
     },
     "execution_count": 13,
     "metadata": {},
     "output_type": "execute_result"
    }
   ],
   "source": [
    "result = run_pipeline(make_pipeline(), '2015-05-05', '2015-05-05')\n",
    "result.head()"
   ]
  },
  {
   "cell_type": "code",
   "execution_count": 14,
   "metadata": {},
   "outputs": [],
   "source": [
    "class TenDayMeanDifference(CustomFactor):\n",
    "    inputs = [USEquityPricing.close, USEquityPricing.open]\n",
    "    window_length = 10\n",
    "    def compute(self, today, asset_ids, out, close, open):\n",
    "        out[:] = numpy.nanmean(close - open, axis=0)"
   ]
  },
  {
   "cell_type": "code",
   "execution_count": 15,
   "metadata": {},
   "outputs": [],
   "source": [
    "close_open_diff = TenDayMeanDifference()"
   ]
  },
  {
   "cell_type": "code",
   "execution_count": 16,
   "metadata": {},
   "outputs": [],
   "source": [
    "high_low_diff = TenDayMeanDifference(inputs=[USEquityPricing.high, USEquityPricing.low])"
   ]
  },
  {
   "cell_type": "code",
   "execution_count": 17,
   "metadata": {},
   "outputs": [],
   "source": [
    "class Momentum(CustomFactor):\n",
    "    inputs = [USEquityPricing.close]\n",
    "\n",
    "    def compute(self, today, assets, out, close):\n",
    "        out[:] = close[-1] / close[0]"
   ]
  },
  {
   "cell_type": "code",
   "execution_count": 18,
   "metadata": {},
   "outputs": [],
   "source": [
    "ten_day_momentum = Momentum(window_length=10)\n",
    "twenty_day_momentum = Momentum(window_length=20)\n",
    "\n",
    "positive_momentum = ((ten_day_momentum > 1) & (twenty_day_momentum > 1))"
   ]
  },
  {
   "cell_type": "code",
   "execution_count": 19,
   "metadata": {},
   "outputs": [],
   "source": [
    "def make_pipeline():\n",
    "\n",
    "    ten_day_momentum = Momentum(window_length=10)\n",
    "    twenty_day_momentum = Momentum(window_length=20)\n",
    "\n",
    "    positive_momentum = ((ten_day_momentum > 1) & (twenty_day_momentum > 1))\n",
    "\n",
    "    std_dev = StdDev(inputs=[USEquityPricing.close], window_length=5)\n",
    "\n",
    "    return Pipeline(\n",
    "        columns={\n",
    "            'std_dev': std_dev,\n",
    "            'ten_day_momentum': ten_day_momentum,\n",
    "            'twenty_day_momentum': twenty_day_momentum\n",
    "        },\n",
    "        screen=positive_momentum\n",
    "    )"
   ]
  },
  {
   "cell_type": "code",
   "execution_count": 21,
   "metadata": {},
   "outputs": [
    {
     "data": {
      "application/vnd.jupyter.widget-view+json": {
       "model_id": "",
       "version_major": 2,
       "version_minor": 0
      },
      "text/plain": []
     },
     "metadata": {},
     "output_type": "display_data"
    },
    {
     "data": {
      "text/html": [
       "<b>Pipeline Execution Time:</b> 0.34 Seconds"
      ],
      "text/plain": [
       "<IPython.core.display.HTML object>"
      ]
     },
     "metadata": {},
     "output_type": "display_data"
    },
    {
     "data": {
      "text/html": [
       "<div>\n",
       "<table border=\"1\" class=\"dataframe\">\n",
       "  <thead>\n",
       "    <tr style=\"text-align: right;\">\n",
       "      <th></th>\n",
       "      <th></th>\n",
       "      <th>std_dev</th>\n",
       "      <th>ten_day_momentum</th>\n",
       "      <th>twenty_day_momentum</th>\n",
       "    </tr>\n",
       "  </thead>\n",
       "  <tbody>\n",
       "    <tr>\n",
       "      <th rowspan=\"5\" valign=\"top\">2015-05-05 00:00:00+00:00</th>\n",
       "      <th>Equity(2 [HWM])</th>\n",
       "      <td>0.293428</td>\n",
       "      <td>1.036612</td>\n",
       "      <td>1.042783</td>\n",
       "    </tr>\n",
       "    <tr>\n",
       "      <th>Equity(24 [AAPL])</th>\n",
       "      <td>1.737677</td>\n",
       "      <td>1.014256</td>\n",
       "      <td>1.021380</td>\n",
       "    </tr>\n",
       "    <tr>\n",
       "      <th>Equity(39 [DDC])</th>\n",
       "      <td>0.138939</td>\n",
       "      <td>1.062261</td>\n",
       "      <td>1.167319</td>\n",
       "    </tr>\n",
       "    <tr>\n",
       "      <th>Equity(52 [ABM])</th>\n",
       "      <td>0.093680</td>\n",
       "      <td>1.009212</td>\n",
       "      <td>1.015075</td>\n",
       "    </tr>\n",
       "    <tr>\n",
       "      <th>Equity(64 [GOLD])</th>\n",
       "      <td>0.178034</td>\n",
       "      <td>1.025721</td>\n",
       "      <td>1.065587</td>\n",
       "    </tr>\n",
       "  </tbody>\n",
       "</table>\n",
       "</div>"
      ],
      "text/plain": [
       "                                              std_dev  ten_day_momentum  \\\n",
       "2015-05-05 00:00:00+00:00 Equity(2 [HWM])    0.293428          1.036612   \n",
       "                          Equity(24 [AAPL])  1.737677          1.014256   \n",
       "                          Equity(39 [DDC])   0.138939          1.062261   \n",
       "                          Equity(52 [ABM])   0.093680          1.009212   \n",
       "                          Equity(64 [GOLD])  0.178034          1.025721   \n",
       "\n",
       "                                             twenty_day_momentum  \n",
       "2015-05-05 00:00:00+00:00 Equity(2 [HWM])               1.042783  \n",
       "                          Equity(24 [AAPL])             1.021380  \n",
       "                          Equity(39 [DDC])              1.167319  \n",
       "                          Equity(52 [ABM])              1.015075  \n",
       "                          Equity(64 [GOLD])             1.065587  "
      ]
     },
     "execution_count": 21,
     "metadata": {},
     "output_type": "execute_result"
    }
   ],
   "source": [
    "result = run_pipeline(make_pipeline(), '2015-05-05', '2015-05-05')\n",
    "result.head()"
   ]
  },
  {
   "cell_type": "code",
   "execution_count": null,
   "metadata": {},
   "outputs": [],
   "source": []
  }
 ],
 "metadata": {
  "kernelspec": {
   "display_name": "Python 3.5",
   "language": "python",
   "name": "py35"
  },
  "language_info": {
   "codemirror_mode": {
    "name": "ipython",
    "version": 3
   },
   "file_extension": ".py",
   "mimetype": "text/x-python",
   "name": "python",
   "nbconvert_exporter": "python",
   "pygments_lexer": "ipython3",
   "version": "3.5.9"
  }
 },
 "nbformat": 4,
 "nbformat_minor": 1
}