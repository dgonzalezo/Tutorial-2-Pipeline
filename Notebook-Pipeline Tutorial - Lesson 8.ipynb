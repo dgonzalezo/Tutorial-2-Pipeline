{
 "cells": [
  {
   "cell_type": "code",
   "execution_count": 6,
   "metadata": {},
   "outputs": [],
   "source": [
    "from quantopian.pipeline import Pipeline\n",
    "from quantopian.research import run_pipeline\n",
    "from quantopian.pipeline.factors import SimpleMovingAverage, AverageDollarVolume"
   ]
  },
  {
   "cell_type": "code",
   "execution_count": 7,
   "metadata": {},
   "outputs": [],
   "source": [
    "from quantopian.pipeline.data import Fundamentals\n",
    "\n",
    "exchange = Fundamentals.exchange_id.latest"
   ]
  },
  {
   "cell_type": "code",
   "execution_count": 8,
   "metadata": {},
   "outputs": [],
   "source": [
    "from quantopian.pipeline.classifiers.fundamentals import Sector  \n",
    "morningstar_sector = Sector()"
   ]
  },
  {
   "cell_type": "code",
   "execution_count": 9,
   "metadata": {},
   "outputs": [],
   "source": [
    "nyse_filter = exchange.eq('NYS')"
   ]
  },
  {
   "cell_type": "code",
   "execution_count": 10,
   "metadata": {},
   "outputs": [],
   "source": [
    "dollar_volume_decile = AverageDollarVolume(window_length=10).deciles()\n",
    "top_decile = (dollar_volume_decile.eq(9))"
   ]
  },
  {
   "cell_type": "code",
   "execution_count": 11,
   "metadata": {},
   "outputs": [],
   "source": [
    "def make_pipeline():\n",
    "    exchange = Fundamentals.exchange_id.latest\n",
    "    nyse_filter = exchange.eq('NYS')\n",
    "\n",
    "    morningstar_sector = Sector()\n",
    "\n",
    "    dollar_volume_decile = AverageDollarVolume(window_length=10).deciles()\n",
    "    top_decile = (dollar_volume_decile.eq(9))\n",
    "\n",
    "    return Pipeline(\n",
    "        columns={\n",
    "            'exchange': exchange,\n",
    "            'sector_code': morningstar_sector,\n",
    "            'dollar_volume_decile': dollar_volume_decile\n",
    "        },\n",
    "        screen=(nyse_filter & top_decile)\n",
    "    )"
   ]
  },
  {
   "cell_type": "code",
   "execution_count": 12,
   "metadata": {},
   "outputs": [
    {
     "data": {
      "application/vnd.jupyter.widget-view+json": {
       "model_id": "",
       "version_major": 2,
       "version_minor": 0
      },
      "text/plain": []
     },
     "metadata": {},
     "output_type": "display_data"
    },
    {
     "data": {
      "text/html": [
       "<b>Pipeline Execution Time:</b> 18.05 Seconds"
      ],
      "text/plain": [
       "<IPython.core.display.HTML object>"
      ]
     },
     "metadata": {},
     "output_type": "display_data"
    },
    {
     "name": "stdout",
     "output_type": "stream",
     "text": [
      "Number of securities that passed the filter: 513\n"
     ]
    },
    {
     "data": {
      "text/html": [
       "<div>\n",
       "<table border=\"1\" class=\"dataframe\">\n",
       "  <thead>\n",
       "    <tr style=\"text-align: right;\">\n",
       "      <th></th>\n",
       "      <th></th>\n",
       "      <th>dollar_volume_decile</th>\n",
       "      <th>exchange</th>\n",
       "      <th>sector_code</th>\n",
       "    </tr>\n",
       "  </thead>\n",
       "  <tbody>\n",
       "    <tr>\n",
       "      <th rowspan=\"5\" valign=\"top\">2015-05-05 00:00:00+00:00</th>\n",
       "      <th>Equity(2 [HWM])</th>\n",
       "      <td>9</td>\n",
       "      <td>NYS</td>\n",
       "      <td>101</td>\n",
       "    </tr>\n",
       "    <tr>\n",
       "      <th>Equity(62 [ABT])</th>\n",
       "      <td>9</td>\n",
       "      <td>NYS</td>\n",
       "      <td>206</td>\n",
       "    </tr>\n",
       "    <tr>\n",
       "      <th>Equity(64 [GOLD])</th>\n",
       "      <td>9</td>\n",
       "      <td>NYS</td>\n",
       "      <td>101</td>\n",
       "    </tr>\n",
       "    <tr>\n",
       "      <th>Equity(76 [TAP])</th>\n",
       "      <td>9</td>\n",
       "      <td>NYS</td>\n",
       "      <td>205</td>\n",
       "    </tr>\n",
       "    <tr>\n",
       "      <th>Equity(128 [ADM])</th>\n",
       "      <td>9</td>\n",
       "      <td>NYS</td>\n",
       "      <td>205</td>\n",
       "    </tr>\n",
       "  </tbody>\n",
       "</table>\n",
       "</div>"
      ],
      "text/plain": [
       "                                             dollar_volume_decile exchange  \\\n",
       "2015-05-05 00:00:00+00:00 Equity(2 [HWM])                       9      NYS   \n",
       "                          Equity(62 [ABT])                      9      NYS   \n",
       "                          Equity(64 [GOLD])                     9      NYS   \n",
       "                          Equity(76 [TAP])                      9      NYS   \n",
       "                          Equity(128 [ADM])                     9      NYS   \n",
       "\n",
       "                                             sector_code  \n",
       "2015-05-05 00:00:00+00:00 Equity(2 [HWM])            101  \n",
       "                          Equity(62 [ABT])           206  \n",
       "                          Equity(64 [GOLD])          101  \n",
       "                          Equity(76 [TAP])           205  \n",
       "                          Equity(128 [ADM])          205  "
      ]
     },
     "execution_count": 12,
     "metadata": {},
     "output_type": "execute_result"
    }
   ],
   "source": [
    "result = run_pipeline(make_pipeline(), '2015-05-05', '2015-05-05')\n",
    "print 'Number of securities that passed the filter: %d' % len(result)\n",
    "result.head()"
   ]
  }
 ],
 "metadata": {
  "kernelspec": {
   "display_name": "Python 3.5",
   "language": "python",
   "name": "py35"
  },
  "language_info": {
   "codemirror_mode": {
    "name": "ipython",
    "version": 3
   },
   "file_extension": ".py",
   "mimetype": "text/x-python",
   "name": "python",
   "nbconvert_exporter": "python",
   "pygments_lexer": "ipython3",
   "version": "3.5.9"
  }
 },
 "nbformat": 4,
 "nbformat_minor": 1
}
